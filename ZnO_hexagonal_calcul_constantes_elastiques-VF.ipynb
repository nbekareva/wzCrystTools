{
 "cells": [
  {
   "cell_type": "code",
   "execution_count": 22,
   "id": "b91fcb6c",
   "metadata": {},
   "outputs": [],
   "source": [
    "import numpy as np\n",
    "import math as mh\n",
    "import orix\n",
    "import matplotlib.pyplot as plt\n",
    "\n",
    "from operator import itemgetter\n",
    "from matplotlib import colormaps\n",
    "\n",
    "#from orix import plot, sampling\n",
    "from orix.crystal_map import Phase\n",
    "from orix.quaternion import Orientation, Rotation, symmetry, Quaternion\n",
    "from orix.vector import Miller, Vector3d\n",
    "from diffpy.structure import Atom, Lattice, Structure\n",
    "from orix.quaternion.symmetry import Oh\n",
    "\n",
    "from orix.io import plugins"
   ]
  },
  {
   "cell_type": "code",
   "execution_count": 23,
   "id": "dee42eb4",
   "metadata": {},
   "outputs": [],
   "source": [
    "\n",
    "def asCartesian(rthetaphi):\n",
    "    #takes list rthetaphi (single coord)\n",
    "    r       = rthetaphi[0]\n",
    "    theta   = rthetaphi[1]* np.pi/180 # to radian\n",
    "    phi     = rthetaphi[2]* np.pi/180\n",
    "    x = r * mh.sin( theta ) * mh.cos( phi )\n",
    "    y = r * mh.sin( theta ) * mh.sin( phi )\n",
    "    z = r * mh.cos( theta )\n",
    "    return [x,y,z]\n",
    "\n",
    "def asSpherical(xyz):\n",
    "    #takes list xyz (single coord)\n",
    "    x       = xyz[0]\n",
    "    y       = xyz[1]\n",
    "    z       = xyz[2]\n",
    "    r       =  mh.sqrt(x*x + y*y + z*z)\n",
    "    theta   =  mh.acos(z/r)*180/ np.pi #to degrees\n",
    "    phi     =  mh.atan2(y,x)*180/ np.pi\n",
    "    return [r,theta,phi]"
   ]
  },
  {
   "cell_type": "code",
   "execution_count": 24,
   "id": "aefa4437",
   "metadata": {},
   "outputs": [],
   "source": [
    "#Paramètres figures\n",
    "\n",
    "plt.rcParams.update(\n",
    "    {\n",
    "        \"figure.figsize\": (10, 10),\n",
    "        \"figure.facecolor\":\"w\",\n",
    "        \"font.size\": 10,\n",
    "        \"axes.grid\": True,\n",
    "        \"lines.markersize\": 10,\n",
    "        \"lines.linewidth\": 2,\n",
    "    }\n",
    ")\n"
   ]
  },
  {
   "cell_type": "code",
   "execution_count": null,
   "id": "ab0b0540",
   "metadata": {},
   "outputs": [
    {
     "name": "stdout",
     "output_type": "stream",
     "text": [
      "Le plan hkl est [[ 1.00000000e+00 -2.77555756e-17  0.00000000e+00]]\n",
      "La normal uvw correspondante est [[2. 1. 0.]]\n",
      "La direction uvw est [[2. 1. 0.]]\n",
      "Ce qui est la normal aux plans [[ 1.00000000e+00 -2.77555756e-17  0.00000000e+00]]\n"
     ]
    }
   ],
   "source": [
    "#test uvw direction normal to plane hkl \n",
    "#maille hexagonale P63mc\n",
    "maille=Lattice(3.25,3.25,5.2,90,90,120)\n",
    "laue_group=symmetry.C3h\n",
    "ZnO_hex=Phase(structure=Structure(lattice=maille),point_group=laue_group)\n",
    "\n",
    "Milhkl=Miller(hkl=[1,0,0],phase=ZnO_hex)\n",
    "print(\"Le plan hkl est\",Milhkl.hkl)\n",
    "Miluvw=Miller(uvw=Milhkl.uvw,phase=ZnO_hex)\n",
    "print(\"La normal uvw correspondante est\",Miluvw.round(10).uvw)\n",
    "\n",
    "#Inversement\n",
    "\n",
    "Miluvw=Miller(uvw=[2,1,0],phase=ZnO_hex)\n",
    "print(\"La direction uvw est\",Miluvw.uvw)\n",
    "Milhkl=Miller(hkl=Miluvw.hkl,phase=ZnO_hex)\n",
    "print(\"Ce qui est la normal aux plans\",Milhkl.round(10).hkl)\n",
    "\n",
    "\n"
   ]
  },
  {
   "cell_type": "code",
   "execution_count": null,
   "id": "65e953d9",
   "metadata": {},
   "outputs": [
    {
     "name": "stdout",
     "output_type": "stream",
     "text": [
      "Le plan hkli est [0, 0, 0, 1]\n",
      "Le plan hkl correspondant est [[0. 0. 1.]]\n",
      "La normal uvw correspondante est [[2. 1. 0.]] ou en 4 indices [[ 1.  0. -1.  0.]]\n",
      "Le module dans la direction [[2. 1. 0.]] donc normale aux plans [[0. 0. 1.]] est 127.3 GPa\n"
     ]
    }
   ],
   "source": [
    "#Elastic constant Zno\n",
    "c11=209.7\n",
    "c12=121.1\n",
    "c13=105.1\n",
    "c22=c11\n",
    "c33=210.9\n",
    "c44=42.47\n",
    "c66=44.29\n",
    "\n",
    "#Elastic matrix\n",
    "C=np.array([[c11,c12,c13,0,0,0],[c12,c11,c13,0,0,0],[c13,c13,c33,0,0,0],[0,0,0,c44,0,0],[0,0,0,0,c44,0],[0,0,0,0,0,c66]])\n",
    "S=np.linalg.inv(C)\n",
    "\n",
    "s11=S[0][0]\n",
    "s12=S[0][1]\n",
    "s13=S[0][2]\n",
    "s14=S[0][3]\n",
    "s33=S[2][2]\n",
    "s44=S[3][3]\n",
    "\n",
    "#E along direction\n",
    "#Plans\n",
    "planhkil=[1,0,-1,0]\n",
    "print(\"Le plan hkli est\",planhkil)\n",
    "\n",
    "#CalculE\n",
    "Milhkil=Miller(hkil=planhkil,phase=ZnO_hex)\n",
    "print(\"Le plan hkl correspondant est\",Milhkil.hkl)\n",
    "Miluvw=Miller(uvw=Milhkl.uvw,phase=ZnO_hex)\n",
    "Miluvtw=Miller(UVTW=Milhkl.UVTW,phase=ZnO_hex)\n",
    "print(\"La normal uvw correspondante est\",Miluvw.round(10).uvw, \"ou en 4 indices\", Miluvtw.round(10).UVTW)\n",
    "\n",
    "Mydirect=Miluvw.uvw[0]\n",
    "NormMydirect=np.linalg.norm(Mydirect)\n",
    "Mydirect=Mydirect/NormMydirect\n",
    "l1=Mydirect[0]\n",
    "l2=Mydirect[1]\n",
    "l3=Mydirect[2]\n",
    "\n",
    "invE=(1-l3**2)**2*s11 + l3**4*s33 + l3**2*(1-l3**2)*(2*s13+s44) + 2*l2*l3*(3*l1**2-l2**2)*s14\n",
    "E=1/invE\n",
    "print(\"Le module dans la direction\",Miluvw.round(10).uvw, \"donc normale aux plans\", Milhkil.round(10).hkl, \"est\",round(E,1), \"GPa\")\n",
    "\n"
   ]
  },
  {
   "cell_type": "code",
   "execution_count": null,
   "id": "5d4ed9fc",
   "metadata": {},
   "outputs": [],
   "source": [
    "\n",
    "\n",
    "\n"
   ]
  },
  {
   "cell_type": "code",
   "execution_count": 27,
   "id": "3ae91d5a",
   "metadata": {},
   "outputs": [
    {
     "ename": "ModuleNotFoundError",
     "evalue": "No module named 'mechelastic'",
     "output_type": "error",
     "traceback": [
      "\u001b[0;31m---------------------------------------------------------------------------\u001b[0m",
      "\u001b[0;31mModuleNotFoundError\u001b[0m                       Traceback (most recent call last)",
      "Cell \u001b[0;32mIn[27], line 1\u001b[0m\n\u001b[0;32m----> 1\u001b[0m \u001b[38;5;28;01mfrom\u001b[39;00m\u001b[38;5;250m \u001b[39m\u001b[38;5;21;01mmechelastic\u001b[39;00m\u001b[38;5;21;01m.\u001b[39;00m\u001b[38;5;21;01mcore\u001b[39;00m\u001b[38;5;250m \u001b[39m\u001b[38;5;28;01mimport\u001b[39;00m ELATE\n\u001b[1;32m      2\u001b[0m \u001b[38;5;28;01mfrom\u001b[39;00m\u001b[38;5;250m \u001b[39m\u001b[38;5;21;01mmechelastic\u001b[39;00m\u001b[38;5;21;01m.\u001b[39;00m\u001b[38;5;21;01mparsers\u001b[39;00m\u001b[38;5;250m \u001b[39m\u001b[38;5;28;01mimport\u001b[39;00m QE_thermo_pw_Parser\n\u001b[1;32m      3\u001b[0m \u001b[38;5;28;01mimport\u001b[39;00m\u001b[38;5;250m \u001b[39m\u001b[38;5;21;01mpyvista\u001b[39;00m\u001b[38;5;250m \u001b[39m\u001b[38;5;28;01mas\u001b[39;00m\u001b[38;5;250m \u001b[39m\u001b[38;5;21;01mpv\u001b[39;00m\n",
      "\u001b[0;31mModuleNotFoundError\u001b[0m: No module named 'mechelastic'"
     ]
    }
   ],
   "source": [
    "from mechelastic.core import ELATE\n",
    "from mechelastic.parsers import QE_thermo_pw_Parser\n",
    "import pyvista as pv\n"
   ]
  },
  {
   "cell_type": "code",
   "execution_count": null,
   "id": "e4cb1200",
   "metadata": {},
   "outputs": [],
   "source": [
    "\n",
    "#Elastic constant Zno\n",
    "c11=209.7\n",
    "c12=121.1\n",
    "c13=105.1\n",
    "c22=c11\n",
    "c33=210.9\n",
    "c44=42.47\n",
    "c66=44.29\n",
    "\n",
    "#Elastic matrix\n",
    "\n",
    "C=np.array([[c11,c12,c13,0,0,0],[c12,c11,c13,0,0,0],[c13,c13,c33,0,0,0],[0,0,0,c44,0,0],[0,0,0,0,c44,0],[0,0,0,0,0,c66]])\n",
    "S=np.linalg.inv(C)\n",
    "\n",
    "elastic_tensor =[[c11,c12,c13,0,0,0],[c12,c11,c13,0,0,0],[c13,c13,c33,0,0,0],[0,0,0,c44,0,0],[0,0,0,0,c44,0],[0,0,0,0,0,c66]]\n",
    "\n",
    "density = None # in kg/m^3\n",
    "\n",
    "elate = ELATE(s = elastic_tensor, density = density)\n",
    "\n",
    "\n",
    "elate.print_properties()\n",
    "\n"
   ]
  },
  {
   "cell_type": "code",
   "execution_count": null,
   "id": "3313f3f6",
   "metadata": {},
   "outputs": [],
   "source": [
    "#available with “BULK”, POISSON” , “SHEAR”, “YOUNG” , “LC” ,”PUGH_RATIO”\n",
    "fig = elate.plot_2D(elastic_calc = \"YOUNG\", show = True )"
   ]
  },
  {
   "cell_type": "code",
   "execution_count": null,
   "id": "39902d4f",
   "metadata": {},
   "outputs": [],
   "source": [
    "#available with “BULK”, POISSON” , “SHEAR”, “YOUNG” , “LC” ,”PUGH_RATIO”\n",
    "meshes = elate.plot_3D(elastic_calc=\"YOUNG\",normal=[1,1,0],npoints=500, show = True)\n",
    "\n"
   ]
  },
  {
   "cell_type": "code",
   "execution_count": null,
   "id": "7e61182c",
   "metadata": {},
   "outputs": [],
   "source": [
    "\n"
   ]
  },
  {
   "cell_type": "code",
   "execution_count": null,
   "id": "470e0997",
   "metadata": {},
   "outputs": [],
   "source": []
  },
  {
   "cell_type": "code",
   "execution_count": null,
   "id": "b58f7572",
   "metadata": {},
   "outputs": [],
   "source": []
  },
  {
   "cell_type": "code",
   "execution_count": null,
   "id": "e1f64103",
   "metadata": {},
   "outputs": [],
   "source": []
  },
  {
   "cell_type": "code",
   "execution_count": null,
   "id": "6a9b3b03",
   "metadata": {},
   "outputs": [],
   "source": []
  },
  {
   "cell_type": "code",
   "execution_count": null,
   "id": "1dcf4b57",
   "metadata": {},
   "outputs": [],
   "source": [
    "\n"
   ]
  },
  {
   "cell_type": "code",
   "execution_count": null,
   "id": "26ee0124",
   "metadata": {},
   "outputs": [],
   "source": []
  },
  {
   "cell_type": "code",
   "execution_count": null,
   "id": "312de85f",
   "metadata": {},
   "outputs": [],
   "source": []
  },
  {
   "cell_type": "code",
   "execution_count": null,
   "id": "9b6ba612",
   "metadata": {},
   "outputs": [],
   "source": []
  }
 ],
 "metadata": {
  "kernelspec": {
   "display_name": "pypotprop",
   "language": "python",
   "name": "python3"
  },
  "language_info": {
   "codemirror_mode": {
    "name": "ipython",
    "version": 3
   },
   "file_extension": ".py",
   "mimetype": "text/x-python",
   "name": "python",
   "nbconvert_exporter": "python",
   "pygments_lexer": "ipython3",
   "version": "3.12.3"
  }
 },
 "nbformat": 4,
 "nbformat_minor": 5
}
